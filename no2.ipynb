{
 "cells": [
  {
   "cell_type": "code",
   "execution_count": 3,
   "metadata": {},
   "outputs": [],
   "source": [
    "from netCDF4 import Dataset\n",
    "import numpy as np\n",
    "import xarray as xr\n",
    "\n",
    "# Load the dataset\n",
    "file_path = \"D:/SIH 2024/S5P_OFFL_L2__NO2____20241030T213820_20241030T231949_36526_03_020701_20241101T132516.nc\"\n",
    "nc_data = Dataset(file_path, mode='r')\n",
    "\n",
    "# Access the PRODUCT group and extract necessary variables\n",
    "product_group = nc_data.groups['PRODUCT']\n",
    "no2_data = product_group.variables['nitrogendioxide_tropospheric_column'][:]\n",
    "latitude = product_group.variables['latitude'][:]\n",
    "longitude = product_group.variables['longitude'][:]\n",
    "\n",
    "# Convert to xarray for easier handling\n",
    "data = xr.open_dataset(file_path, group='PRODUCT')\n"
   ]
  },
  {
   "cell_type": "code",
   "execution_count": 4,
   "metadata": {},
   "outputs": [
    {
     "name": "stdout",
     "output_type": "stream",
     "text": [
      "Fractal Dimension: 0.9949752054732586\n"
     ]
    }
   ],
   "source": [
    "import numpy as np\n",
    "import matplotlib.pyplot as plt\n",
    "\n",
    "def box_count(img, box_sizes):\n",
    "    counts = []\n",
    "    for size in box_sizes:\n",
    "        count = 0\n",
    "        for i in range(0, img.shape[0], size):\n",
    "            for j in range(0, img.shape[1], size):\n",
    "                if np.sum(img[i:i+size, j:j+size]) > 0:\n",
    "                    count += 1\n",
    "        counts.append(count)\n",
    "    return np.array(counts)\n",
    "\n",
    "# Example of downscaling data (assuming `no2_data` is a 2D grid)\n",
    "box_sizes = np.logspace(1, np.log10(min(no2_data.shape)), num=20, dtype=int)\n",
    "counts = box_count(no2_data, box_sizes)\n",
    "\n",
    "# Fit the fractal dimension to the box-counting data\n",
    "log_box_sizes = np.log(box_sizes)\n",
    "log_counts = np.log(counts)\n",
    "fractal_dim = -np.polyfit(log_box_sizes, log_counts, 1)[0]\n",
    "\n",
    "print(\"Fractal Dimension:\", fractal_dim)\n"
   ]
  },
  {
   "cell_type": "code",
   "execution_count": 6,
   "metadata": {},
   "outputs": [
    {
     "name": "stdout",
     "output_type": "stream",
     "text": [
      "1 1\n",
      "Latitude: [[[-64.44701  -64.46644  -64.48534  ... -56.49504  -56.433323 -56.370667]\n",
      "  [-64.49422  -64.513695 -64.53262  ... -56.533787 -56.472015 -56.409306]\n",
      "  [-64.5414   -64.56091  -64.57989  ... -56.57254  -56.510715 -56.447952]\n",
      "  ...\n",
      "  [ 68.987206  69.071396  69.15442  ...  86.64859   86.573524  86.497154]\n",
      "  [ 68.98504   69.0692    69.15218  ...  86.63653   86.5619    86.48596 ]\n",
      "  [ 68.98283   69.06694   69.14989  ...  86.623764  86.54958   86.47408 ]]]\n",
      "Longitude: [[[ 63.460926  63.26171   63.065014 ...  14.401759  14.298953  14.195079]\n",
      "  [ 63.46975   63.270203  63.073177 ...  14.344166  14.241354  14.137475]\n",
      "  [ 63.478897  63.279015  63.08166  ...  14.286627  14.183811  14.079929]\n",
      "  ...\n",
      "  [125.538086 125.494125 125.45045  ... -37.894524 -38.424107 -38.9377  ]\n",
      "  [125.39776  125.35324  125.30902  ... -37.11055  -37.65573  -38.184658]\n",
      "  [125.25748  125.21242  125.16765  ... -36.332294 -36.892628 -37.43648 ]]]\n",
      "Latitude shape: (1, 4173, 450)\n",
      "Longitude shape: (1, 4173, 450)\n"
     ]
    }
   ],
   "source": [
    "print(len(latitude), len(longitude))\n",
    "\n",
    "print(\"Latitude:\", latitude)\n",
    "print(\"Longitude:\", longitude)\n",
    "print(\"Latitude shape:\", latitude.shape)\n",
    "print(\"Longitude shape:\", longitude.shape)\n",
    "\n"
   ]
  },
  {
   "cell_type": "code",
   "execution_count": 7,
   "metadata": {},
   "outputs": [
    {
     "name": "stdout",
     "output_type": "stream",
     "text": [
      "Flattened Latitude shape: (1877850,)\n",
      "Flattened Longitude shape: (1877850,)\n"
     ]
    }
   ],
   "source": [
    "latitude_flat = latitude.flatten()\n",
    "longitude_flat = longitude.flatten()\n",
    "print(\"Flattened Latitude shape:\", latitude_flat.shape)\n",
    "print(\"Flattened Longitude shape:\", longitude_flat.shape)\n"
   ]
  },
  {
   "cell_type": "code",
   "execution_count": 8,
   "metadata": {},
   "outputs": [
    {
     "name": "stdout",
     "output_type": "stream",
     "text": [
      "Downscaled NO2 Data: [[           nan            nan            nan ...            nan\n",
      "             nan            nan]\n",
      " [           nan 6.62399899e+30 1.42124670e+38 ... 9.96920997e+36\n",
      "  9.96920997e+36            nan]\n",
      " [           nan 2.16372902e+26 5.49077581e+37 ... 9.96920997e+36\n",
      "  9.96920997e+36            nan]\n",
      " ...\n",
      " [           nan 2.36034094e+35 3.45954588e+38 ... 9.96920997e+36\n",
      "  9.96920997e+36            nan]\n",
      " [           nan 1.05716058e+33 2.24115793e+38 ... 9.96920997e+36\n",
      "  9.96920997e+36            nan]\n",
      " [           nan            nan            nan ...            nan\n",
      "             nan            nan]]\n"
     ]
    }
   ],
   "source": [
    "from scipy.interpolate import griddata\n",
    "\n",
    "# Create a grid for new latitude and longitude\n",
    "new_latitude = np.linspace(min(latitude_flat), max(latitude_flat), 50)  # Use smaller grid size for testing\n",
    "new_longitude = np.linspace(min(longitude_flat), max(longitude_flat), 50)\n",
    "\n",
    "# Create meshgrid for interpolation\n",
    "grid_lat, grid_lon = np.meshgrid(new_latitude, new_longitude)\n",
    "\n",
    "# Interpolate NO2 data\n",
    "downscaled_no2 = griddata(\n",
    "    (latitude_flat, longitude_flat),\n",
    "    no2_data.flatten(),  # Flatten NO2 data\n",
    "    (grid_lat, grid_lon),\n",
    "    method='cubic'\n",
    ")\n",
    "print(\"Downscaled NO2 Data:\", downscaled_no2)\n"
   ]
  }
 ],
 "metadata": {
  "kernelspec": {
   "display_name": "env",
   "language": "python",
   "name": "python3"
  },
  "language_info": {
   "codemirror_mode": {
    "name": "ipython",
    "version": 3
   },
   "file_extension": ".py",
   "mimetype": "text/x-python",
   "name": "python",
   "nbconvert_exporter": "python",
   "pygments_lexer": "ipython3",
   "version": "3.11.9"
  }
 },
 "nbformat": 4,
 "nbformat_minor": 2
}
